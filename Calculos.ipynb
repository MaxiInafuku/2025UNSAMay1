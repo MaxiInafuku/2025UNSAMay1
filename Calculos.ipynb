{
 "cells": [
  {
   "cell_type": "code",
   "execution_count": 1,
   "metadata": {},
   "outputs": [],
   "source": [
    "import numpy as np\n",
    "from scipy.optimize import fsolve\n",
    "import matplotlib.pyplot as plt"
   ]
  },
  {
   "cell_type": "markdown",
   "metadata": {},
   "source": [
    "## problema 1\n",
    "Un electrodo selectivo de iones y un electrodo de referencia se introdujeron en exactamente 100 mL de una muestra, obteniéndose una lectura de 21,6 mV.\n",
    "Después de la adición de exactamente 10 mL de una solución estándar de concentración igual a 100 µg/mL, el par de electrodos dio una lectura de 43,7 mV.\n",
    "Previamente se determinó que la pendiente de respuesta del electrodo indicador era igual a 57,8 mV. ¿Cuál es la concentración de la muestra?"
   ]
  },
  {
   "cell_type": "code",
   "execution_count": 2,
   "metadata": {},
   "outputs": [
    {
     "name": "stdout",
     "output_type": "stream",
     "text": [
      "La concentración de la muestra es: 6.049 ug/mL\n",
      "La pendiente debería ser S:59.16 mV\n",
      "La pendiente también es: 0.2* T mV/K\n",
      "Si consideramos que la pendiente es S=R.T.ln(10)/F, la T:291.3 K = 18.16°C\n"
     ]
    }
   ],
   "source": [
    "V1 = 100        #mL\n",
    "Vag = 10        #mL\n",
    "Cag = 100       #ug/mL\n",
    "E1 = 21.6       #mV\n",
    "E2 = 43.7       #mV\n",
    "S = 57.8        #mV\n",
    "R = 8.314       #J/K.mol\n",
    "T = 298.15      #K\n",
    "F = 96485       #C/mol \n",
    "z = 1           \n",
    "\n",
    "C1 = Cag*Vag/(10**((E2-E1)/S)*(V1+Vag)-V1)\n",
    "print('La concentración de la muestra es: {:.4g} ug/mL' .format(C1))\n",
    "\n",
    "Steo = R*T*np.log(10)*1000/(z*F)   \n",
    "print('La pendiente debería ser S:{:.4g} mV' .format(Steo))\n",
    "\n",
    "m = R*np.log(10)*1000/(z*F) \n",
    "print('La pendiente también es: {:.2g}* T mV/K' .format(m))\n",
    "\n",
    "Tactual = S*z*F/(1000*R*np.log(10))\n",
    "print('Si consideramos que la pendiente es S=R.T.ln(10)/F, la T:{:.4g} K = {:.4g}°C' .format(Tactual, Tactual-273.15))"
   ]
  },
  {
   "cell_type": "markdown",
   "metadata": {},
   "source": [
    "## Problema 2\n",
    "El sulfuro ácido de amonio se descompone según la reacción:\n",
    "NH4HS (s) ↔ NH3 (g) + H2S (g),\n",
    "\n",
    "con una constante de equilibrio Kp = 0,060 a 25ºC.\n",
    "\n",
    "a) En un recipiente de paredes rígidas de 5 L se introducen 0,4 moles de NH4HS (s) a 25ºC. Calcular el número de moles de sólido que se habrán descompuesto cuando se haya alcanzado el equilibrio.\n",
    "\n",
    "b) Repetir los cálculos del punto a) pero suponiendo que inicialmente hay en el recipiente 0,012 moles de H2S (g) además del sólido.\n",
    "\n",
    "c) Explicar brevemente y justificando las respuestas, cómo se desplazaría el equilibrio del punto a) en el caso que:\n",
    "\n",
    "i) se agregan 0,012 moles de NH3 (g) al sistema\n",
    "\n",
    "ii) se agregan 0,100 moles de NH4HS (s) al sistema\n",
    "\n",
    "iii) se disminuye el volumen del recipiente\n"
   ]
  },
  {
   "cell_type": "code",
   "execution_count": 3,
   "metadata": {},
   "outputs": [
    {
     "name": "stdout",
     "output_type": "stream",
     "text": [
      "(a) La presión de los gases será: 0.2449 bar\n",
      "(a) El número de moles descompuestos será: 0.04941 mol\n",
      "[-0.27649431  0.21700265]\n",
      "(b) el número de moles descompuesto es:0.04377 mol\n"
     ]
    }
   ],
   "source": [
    "Kp = 0.06\n",
    "T = 298.15          #K\n",
    "na = 0.4            #mol    \n",
    "V = 5               #L\n",
    "Rbar = 0.08314      #bar.L/K.mol\n",
    "\n",
    "nb = 0.012\n",
    "pi = nb*Rbar*T/V\n",
    "\n",
    "p = np.sqrt(Kp)\n",
    "print('(a) La presión de los gases será: {:.4g} bar' .format(p))\n",
    "\n",
    "n = p*V/(Rbar*T) \n",
    "print('(a) El número de moles descompuestos será: {:.4g} mol' .format(n))\n",
    "\n",
    "coeff = [1, pi, -Kp]\n",
    "roots = np.roots(coeff)\n",
    "print(roots)\n",
    "px = roots[roots>0][0]\n",
    "x = px*V/(Rbar*T)\n",
    "print('(b) el número de moles descompuesto es:{:.4g} mol' .format(x))\n",
    "\n"
   ]
  },
  {
   "cell_type": "markdown",
   "metadata": {},
   "source": [
    "## Problema 3\n",
    "Si se agregan 0,100 mol de BaF2 a 1,0 litro de buffer de pH= 4 (no hay cambio de volumen):\n",
    "\n",
    "a. Calcular el número de moles de BaF2(s) que quedan sin disolver.\n",
    "\n",
    "b. Calcular el número de moles máximo de CaCl2 que pueden agregarse a la solución resultante en (a) sin que se observe precipitación de CaF2 (s).\n",
    "\n",
    "DATOS: Kps (BaF2) = 1,0.10-6; Kps (CaF2) = 3,98.10-11"
   ]
  },
  {
   "cell_type": "code",
   "execution_count": 4,
   "metadata": {},
   "outputs": [
    {
     "name": "stdout",
     "output_type": "stream",
     "text": [
      "Los moles disueltos de BaF2 a partir del equilibrio:0.0063 mol\n",
      "Los moles no disueltos de BaF2 son:0.0937 mol\n",
      "El Ca+2 máximo que puede disolverse antes de que haya precipitación es:2.507e-07 mol\n"
     ]
    }
   ],
   "source": [
    "KspBaF2 = 1e-6\n",
    "KspCaF2 = 3.98e-11\n",
    "\n",
    "n0 = 0.1            #mol\n",
    "V = 1               #L\n",
    "pH = 4\n",
    "H = 10**(-pH)       #M\n",
    "\n",
    "xa = (KspBaF2/4)**(1/3)*V \n",
    "print('Los moles disueltos de BaF2 a partir del equilibrio:{:.4g} mol' .format(xa))\n",
    "\n",
    "nNoDis_a = n0-xa\n",
    "print('Los moles no disueltos de BaF2 son:{:.4g} mol' .format(nNoDis_a))\n",
    "\n",
    "F = 2*xa/V\n",
    "nCa = V*KspCaF2/F**2\n",
    "print('El Ca+2 máximo que puede disolverse antes de que haya precipitación es:{:.4g} mol' .format(nCa))"
   ]
  },
  {
   "cell_type": "code",
   "execution_count": 5,
   "metadata": {},
   "outputs": [
    {
     "name": "stdout",
     "output_type": "stream",
     "text": [
      "Los moles disueltos de BaF2, considerando eq ác-base:0.006906 mol\n",
      "Los moles no disueltos de BaF2 son:0.09309 mol\n",
      "El Ca+2 máximo que puede disolverse antes de que haya precipitación es:2.749e-07 mol\n"
     ]
    }
   ],
   "source": [
    "#Considerando equilibrio HF\n",
    "pKaHF = 3.17\n",
    "KaHF = 10**(-pKaHF)\n",
    "\n",
    "xa = V*(KspBaF2 * (1+H/KaHF)**2 /4)**(1/3)\n",
    "print('Los moles disueltos de BaF2, considerando eq ác-base:{:.4g} mol' .format(xa))\n",
    "\n",
    "nNoDis_a = n0-xa\n",
    "print('Los moles no disueltos de BaF2 son:{:.4g} mol' .format(nNoDis_a))\n",
    "\n",
    "F = 2*(xa/V)*KaHF/(H+KaHF)\n",
    "nCa = V*KspCaF2/F**2\n",
    "print('El Ca+2 máximo que puede disolverse antes de que haya precipitación es:{:.4g} mol' .format(nCa))\n",
    "\n"
   ]
  },
  {
   "cell_type": "markdown",
   "metadata": {},
   "source": [
    "# Trabajo práctico: Titulación ácido base\n",
    "https://www.aqion.de/site/153\n",
    "\n",
    "Polinomio:\n",
    "\n",
    "$0=\\frac{H^4}{Ka_1} + H^3 (1 + C_1/Ka_1) +  H^2 (C_1 - Kw/Ka_1 + Ka_2 - C_2) + H (C_1 Ka_2 - Kw - 2 C_2 Ka_2) - Kw Ka_2$\n",
    "\n",
    "$C_1 = C_{NaOH} + C_{NaHCO_3} + 2 C_{K_2CO_3} - C_{HCl}$\n",
    "\n",
    "$C_2 = C_{NaHCO_3} + C_{K_2CO_3}$"
   ]
  },
  {
   "cell_type": "code",
   "execution_count": 6,
   "metadata": {},
   "outputs": [
    {
     "name": "stdout",
     "output_type": "stream",
     "text": [
      "C(NaOH): 0.05 M, C(NaHCO3):0 M, C(K2CO3):0.09406 M\n"
     ]
    },
    {
     "data": {
      "image/png": "[encoded data removed]",
      "text/plain": [
       "<Figure size 720x432 with 1 Axes>"
      ]
     },
     "metadata": {
      "needs_background": "light"
     },
     "output_type": "display_data"
    },
    {
     "name": "stdout",
     "output_type": "stream",
     "text": [
      "Los volumenes de HCl para el primer punto de equivalencia son:\n",
      "NaOH:1.667 mL, NaHCO3:0 mL, K2CO3:3.135 mL\n"
     ]
    }
   ],
   "source": [
    "pKa1 = 6.4\n",
    "pKa2 = 10.3\n",
    "MrNaOH = 39.9971        #g/mol\n",
    "MrNaHCO3 = 84.007       #g/mol\n",
    "MrK2CO3 = 138.21        #g/mol\n",
    "\n",
    "#sample = [1.3, 0, 0]    #masses in g\n",
    "#sample = [1.3, 0.5, 0] #masses in g\n",
    "sample = [1.3, 0, 0.2] #masses in g\n",
    "\n",
    "\n",
    "mK2CO3 = sample[0]      #g\n",
    "mNaHCO3 = sample[1]     #g      \n",
    "mNaOH = sample[2]       #g      \n",
    "V = 100                 #mL\n",
    "V = V/1000              #L\n",
    "\n",
    "Ka1 = 10**(-pKa1)\n",
    "Ka2 = 10**(-pKa2)\n",
    "Kw = 1e-14\n",
    "CK2CO3 = mK2CO3/(MrK2CO3*V)\n",
    "CNaHCO3 = mNaHCO3/(MrNaHCO3*V)\n",
    "CNaOH = mNaOH/(MrNaOH*V)\n",
    "\n",
    "print('C(NaOH): {:.4g} M, C(NaHCO3):{:.4g} M, C(K2CO3):{:.4g} M' .format(CNaOH, CNaHCO3, CK2CO3))\n",
    "\n",
    "C10analito = CNaOH + CNaHCO3 + 2*CK2CO3\n",
    "C20 = CNaHCO3 + CK2CO3 \n",
    "\n",
    "Va = 5              #mL de analito\n",
    "CHCl0 = 0.15\n",
    "Vfinal = 10         #mL de titulante\n",
    "\n",
    "step = int(Vfinal/0.1)\n",
    "VHCls = np.linspace(0, Vfinal, step)\n",
    "\n",
    "pHs = []\n",
    "for VHCl in VHCls:\n",
    "    Vtot = VHCl+Va\n",
    "    C1analito = C10analito*Va/Vtot\n",
    "    CHCl = CHCl0*VHCl/Vtot\n",
    "    C1 = C1analito - CHCl\n",
    "    C2 = C20*Va/Vtot\n",
    "    coeff = [1/Ka1, 1+C1/Ka1, C1 - Kw/Ka1 + Ka2 - C2, C1*Ka2-Kw-2*C2*Ka2, -Kw*Ka2]\n",
    "    roots = np.roots(coeff)\n",
    "    H = roots[roots>0][0]\n",
    "    pH = -np.log10(H)\n",
    "    pHs.append(pH)\n",
    "\n",
    "Figure, ax = plt.subplots(figsize = (10,6))\n",
    "ax.scatter(VHCls, pHs)\n",
    "ax.axhspan(8,10, color = 'violet', alpha = 0.5)\n",
    "ax.axhspan(3,5, color = 'red', alpha = 0.3)\n",
    "ax.set_xlabel('$V_{HCl}$ (mL)', fontsize = 20)\n",
    "ax.set_ylabel('pH', fontsize = 20)\n",
    "plt.show()\n",
    "\n",
    "VHCl_to_NaOH = Va*CNaOH/CHCl0\n",
    "VHCl_to_NaHCO3 = Va*CNaHCO3/CHCl0\n",
    "VHCl_to_K2CO3 = Va*CK2CO3/CHCl0 \n",
    "\n",
    "print('Los volumenes de HCl para el primer punto de equivalencia son:')\n",
    "print('NaOH:{:.4g} mL, NaHCO3:{:.4g} mL, K2CO3:{:.4g} mL' .format(VHCl_to_NaOH, VHCl_to_NaHCO3, VHCl_to_K2CO3))\n"
   ]
  }
 ],
 "metadata": {
  "kernelspec": {
   "display_name": "base",
   "language": "python",
   "name": "python3"
  },
  "language_info": {
   "codemirror_mode": {
    "name": "ipython",
    "version": 3
   },
   "file_extension": ".py",
   "mimetype": "text/x-python",
   "name": "python",
   "nbconvert_exporter": "python",
   "pygments_lexer": "ipython3",
   "version": "3.9.12"
  }
 },
 "nbformat": 4,
 "nbformat_minor": 2
}
